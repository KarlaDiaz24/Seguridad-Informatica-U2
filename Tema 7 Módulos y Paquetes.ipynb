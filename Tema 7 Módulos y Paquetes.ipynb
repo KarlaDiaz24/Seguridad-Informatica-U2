{
 "cells": [
  {
   "cell_type": "code",
   "execution_count": 1,
   "id": "d4317346",
   "metadata": {},
   "outputs": [],
   "source": [
    "import operaciones\n",
    "\n",
    "from mipaquete import mequiere\n",
    "from mipaquete import parimpar\n",
    "from mipaquete import tablasdemulti\n",
    "from mipaquete import mayordeedad"
   ]
  },
  {
   "cell_type": "code",
   "execution_count": 2,
   "id": "9995db89",
   "metadata": {},
   "outputs": [
    {
     "name": "stdout",
     "output_type": "stream",
     "text": [
      "11\n"
     ]
    }
   ],
   "source": [
    "resultado = operaciones.suma(5, 6)\n",
    "print(resultado)"
   ]
  },
  {
   "cell_type": "code",
   "execution_count": 3,
   "id": "3fd8142d",
   "metadata": {},
   "outputs": [
    {
     "name": "stdout",
     "output_type": "stream",
     "text": [
      "-1\n"
     ]
    }
   ],
   "source": [
    "resultado = operaciones.resta(5, 6)\n",
    "print(resultado)"
   ]
  },
  {
   "cell_type": "code",
   "execution_count": 4,
   "id": "65d8bff2",
   "metadata": {},
   "outputs": [
    {
     "name": "stdout",
     "output_type": "stream",
     "text": [
      "30\n"
     ]
    }
   ],
   "source": [
    "resultado = operaciones.multi(5, 6)\n",
    "print(resultado)"
   ]
  },
  {
   "cell_type": "code",
   "execution_count": 2,
   "id": "a66678c7",
   "metadata": {},
   "outputs": [
    {
     "name": "stdout",
     "output_type": "stream",
     "text": [
      "Hola me quieres? SI o NOno\n",
      "Nopp\n"
     ]
    }
   ],
   "source": [
    "mequiere.mequiere()"
   ]
  },
  {
   "cell_type": "code",
   "execution_count": 9,
   "id": "48742b4d",
   "metadata": {},
   "outputs": [
    {
     "name": "stdout",
     "output_type": "stream",
     "text": [
      "Introduce un número: 7\n",
      "El número es impar.\n"
     ]
    }
   ],
   "source": [
    "parimpar.parimpar()"
   ]
  },
  {
   "cell_type": "code",
   "execution_count": 10,
   "id": "98e7a320",
   "metadata": {},
   "outputs": [
    {
     "name": "stdout",
     "output_type": "stream",
     "text": [
      "Ingresa el rango inicial: 1\n",
      "Ingresa el rango final: 3\n",
      "Ingresa el inicio de la tabla: 1\n",
      "Ingresa el final de la tabla: 3\n",
      "Tabla del 1\n",
      "1 x 1 = 1\n",
      "1 x 2 = 2\n",
      "Tabla del 2\n",
      "2 x 1 = 2\n",
      "2 x 2 = 4\n",
      "\n"
     ]
    }
   ],
   "source": [
    "tablasdemulti.tablasdemulti()"
   ]
  },
  {
   "cell_type": "code",
   "execution_count": 11,
   "id": "01aea230",
   "metadata": {},
   "outputs": [
    {
     "name": "stdout",
     "output_type": "stream",
     "text": [
      "Introduce tu edad: 19\n",
      "Eres mayor de edad.\n"
     ]
    }
   ],
   "source": [
    "mayordeedad.mayordeedad()"
   ]
  },
  {
   "cell_type": "code",
   "execution_count": null,
   "id": "489d265d",
   "metadata": {},
   "outputs": [],
   "source": []
  }
 ],
 "metadata": {
  "kernelspec": {
   "display_name": "Python 3 (ipykernel)",
   "language": "python",
   "name": "python3"
  },
  "language_info": {
   "codemirror_mode": {
    "name": "ipython",
    "version": 3
   },
   "file_extension": ".py",
   "mimetype": "text/x-python",
   "name": "python",
   "nbconvert_exporter": "python",
   "pygments_lexer": "ipython3",
   "version": "3.11.4"
  }
 },
 "nbformat": 4,
 "nbformat_minor": 5
}
