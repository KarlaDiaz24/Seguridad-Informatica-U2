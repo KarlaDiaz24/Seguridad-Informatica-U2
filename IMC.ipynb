{
 "cells": [
  {
   "cell_type": "code",
   "execution_count": 11,
   "id": "1080c73c",
   "metadata": {},
   "outputs": [],
   "source": [
    "# 1. Listas\n",
    "\n",
    "frutas = [\"manzana\", \"banana\", \"cereza\"]\n",
    "numeros = [1, 2, 3, 4, 5]\n",
    "mixto = [\"texto\", 123, True, 3.14]"
   ]
  },
  {
   "cell_type": "code",
   "execution_count": 12,
   "id": "83b11ac4",
   "metadata": {},
   "outputs": [
    {
     "name": "stdout",
     "output_type": "stream",
     "text": [
      "manzana\n",
      "1\n",
      "2\n",
      "3\n",
      "4\n",
      "5\n"
     ]
    }
   ],
   "source": [
    "# Acceso a datos\n",
    "print(frutas[0])\n",
    "\n",
    "for numero in numeros:\n",
    "    print(numero)"
   ]
  },
  {
   "cell_type": "code",
   "execution_count": 13,
   "id": "70ba23e0",
   "metadata": {},
   "outputs": [
    {
     "name": "stdout",
     "output_type": "stream",
     "text": [
      "['texto', 'Hola mundo', True, 3.14]\n"
     ]
    }
   ],
   "source": [
    "mixto[1] = \"Hola mundo\"\n",
    "print(mixto)"
   ]
  },
  {
   "cell_type": "code",
   "execution_count": 14,
   "id": "606d4b21",
   "metadata": {},
   "outputs": [
    {
     "data": {
      "text/plain": [
       "'naranja'"
      ]
     },
     "execution_count": 14,
     "metadata": {},
     "output_type": "execute_result"
    }
   ],
   "source": [
    "# Metodos\n",
    "\n",
    "frutas.append(\"naranja\")    # Agrega un elemento al final\n",
    "frutas.remove(\"manzana\")    # Elimina un elemento específico\n",
    "frutas.pop()                # Elimina el último elemento"
   ]
  },
  {
   "cell_type": "code",
   "execution_count": 15,
   "id": "c324311b",
   "metadata": {},
   "outputs": [],
   "source": [
    "# 2. Tuplas\n",
    "\n",
    "colores = (\"rojo\", \"verde\", \"azul\")"
   ]
  },
  {
   "cell_type": "code",
   "execution_count": 16,
   "id": "3e5d4740",
   "metadata": {},
   "outputs": [
    {
     "name": "stdout",
     "output_type": "stream",
     "text": [
      "verde\n",
      "rojo\n",
      "verde\n",
      "azul\n"
     ]
    }
   ],
   "source": [
    "print(colores[1])\n",
    "\n",
    "for color in colores:\n",
    "    print(color)"
   ]
  },
  {
   "cell_type": "code",
   "execution_count": 17,
   "id": "93cb0ea8",
   "metadata": {},
   "outputs": [],
   "source": [
    "# 3. Conjunto (Sets)\n",
    "\n",
    "animales = {\"gato\", \"perro\", \"pez\"}"
   ]
  },
  {
   "cell_type": "code",
   "execution_count": 18,
   "id": "48d0c553",
   "metadata": {},
   "outputs": [],
   "source": [
    "# Metodos\n",
    "animales.add(\"pájaro\")     # Agrega un elemento\n",
    "animales.remove(\"pez\")     # Elimina un elemento"
   ]
  },
  {
   "cell_type": "code",
   "execution_count": 19,
   "id": "f3279a12",
   "metadata": {},
   "outputs": [
    {
     "name": "stdout",
     "output_type": "stream",
     "text": [
      "perro\n",
      "gato\n",
      "pájaro\n"
     ]
    }
   ],
   "source": [
    "for animal in animales:\n",
    "    print(animal)"
   ]
  },
  {
   "cell_type": "code",
   "execution_count": 20,
   "id": "80bf9639",
   "metadata": {},
   "outputs": [],
   "source": [
    "# 4. Diccionarios\n",
    "persona = {\n",
    "    \"nombre\": \"Karla\",\n",
    "    \"ap_paterno\": \"Diaz\",\n",
    "    \"materno\": \"Lopez\",\n",
    "    \"edad\": 19,\n",
    "    \"ciudad\": \"Cancún\",\n",
    "    \"altura\": 1.66,\n",
    "    \"peso\": 64\n",
    "}"
   ]
  },
  {
   "cell_type": "code",
   "execution_count": 21,
   "id": "8562c869",
   "metadata": {},
   "outputs": [
    {
     "name": "stdout",
     "output_type": "stream",
     "text": [
      "nombre\n",
      "ap_paterno\n",
      "materno\n",
      "edad\n",
      "ciudad\n",
      "altura\n",
      "peso\n"
     ]
    }
   ],
   "source": [
    "for k in persona:\n",
    "    print(k)"
   ]
  },
  {
   "cell_type": "code",
   "execution_count": 22,
   "id": "5f75a274",
   "metadata": {},
   "outputs": [
    {
     "name": "stdout",
     "output_type": "stream",
     "text": [
      "Karla\n",
      "Diaz\n",
      "Lopez\n",
      "19\n",
      "Cancún\n",
      "1.66\n",
      "64\n"
     ]
    }
   ],
   "source": [
    "for v in persona.values():\n",
    "    print(v)"
   ]
  },
  {
   "cell_type": "code",
   "execution_count": 23,
   "id": "32ef0333",
   "metadata": {},
   "outputs": [
    {
     "name": "stdout",
     "output_type": "stream",
     "text": [
      "la clave es: nombre y el valor es: Karla\n",
      "la clave es: ap_paterno y el valor es: Diaz\n",
      "la clave es: materno y el valor es: Lopez\n",
      "la clave es: edad y el valor es: 19\n",
      "la clave es: ciudad y el valor es: Cancún\n",
      "la clave es: altura y el valor es: 1.66\n",
      "la clave es: peso y el valor es: 64\n"
     ]
    }
   ],
   "source": [
    "for k,v in persona.items():\n",
    "    print(f\"la clave es: {k} y el valor es: {v}\")"
   ]
  },
  {
   "cell_type": "code",
   "execution_count": 24,
   "id": "bb576da5",
   "metadata": {},
   "outputs": [],
   "source": [
    "# Función que determine el IMC y que diga el nivel del peso\n",
    "\n",
    "def IMC(persona):\n",
    "    imc = persona[\"peso\"] / (persona[\"altura\"] * persona[\"altura\"])\n",
    "    print(f\"Tu IMC es de: {round(imc,2)}\")\n",
    "    if imc < 18.5:\n",
    "        print(\"Tienes bajo peso\")\n",
    "    elif imc > 18.5 and imc < 24.9:\n",
    "        print(\"Tu peso es normal\")\n",
    "    elif imc > 25.0 and imc < 29.9:  \n",
    "        print(\"Tienes sobrepeso\")\n",
    "    else: print(\"Tienes obesidad\")    "
   ]
  },
  {
   "cell_type": "code",
   "execution_count": 25,
   "id": "0064f88e",
   "metadata": {},
   "outputs": [
    {
     "ename": "TypeError",
     "evalue": "IMC() takes 1 positional argument but 2 were given",
     "output_type": "error",
     "traceback": [
      "\u001b[1;31m---------------------------------------------------------------------------\u001b[0m",
      "\u001b[1;31mTypeError\u001b[0m                                 Traceback (most recent call last)",
      "Cell \u001b[1;32mIn[25], line 3\u001b[0m\n\u001b[0;32m      1\u001b[0m peso_p \u001b[38;5;241m=\u001b[39m persona[\u001b[38;5;124m\"\u001b[39m\u001b[38;5;124mpeso\u001b[39m\u001b[38;5;124m\"\u001b[39m]\n\u001b[0;32m      2\u001b[0m altura_p \u001b[38;5;241m=\u001b[39m persona[\u001b[38;5;124m\"\u001b[39m\u001b[38;5;124maltura\u001b[39m\u001b[38;5;124m\"\u001b[39m]\n\u001b[1;32m----> 3\u001b[0m IMC(peso_p,altura_p)\n",
      "\u001b[1;31mTypeError\u001b[0m: IMC() takes 1 positional argument but 2 were given"
     ]
    }
   ],
   "source": [
    "peso_p = persona[\"peso\"]\n",
    "altura_p = persona[\"altura\"]\n",
    "IMC(peso_p,altura_p)"
   ]
  }
 ],
 "metadata": {
  "kernelspec": {
   "display_name": "Python 3 (ipykernel)",
   "language": "python",
   "name": "python3"
  },
  "language_info": {
   "codemirror_mode": {
    "name": "ipython",
    "version": 3
   },
   "file_extension": ".py",
   "mimetype": "text/x-python",
   "name": "python",
   "nbconvert_exporter": "python",
   "pygments_lexer": "ipython3",
   "version": "3.11.4"
  }
 },
 "nbformat": 4,
 "nbformat_minor": 5
}
