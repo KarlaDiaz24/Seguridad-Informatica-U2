{
 "cells": [
  {
   "cell_type": "code",
   "execution_count": null,
   "id": "2a7ef24a",
   "metadata": {},
   "outputs": [],
   "source": [
    "# Indentación\n",
    "\n",
    "# ; No existe en lineas de codigo\n",
    "# {} No existe bloques de codigo\n",
    "# () No existe en funciones\n",
    "\n",
    "# :\n",
    "\n",
    "# Identado - Espacio | 4 Espacios obligados"
   ]
  },
  {
   "cell_type": "code",
   "execution_count": 4,
   "id": "f636dc6e",
   "metadata": {},
   "outputs": [
    {
     "name": "stdout",
     "output_type": "stream",
     "text": [
      "hola\n"
     ]
    }
   ],
   "source": [
    "a=2\n",
    "b=4\n",
    "if a<b :\n",
    "    print(\"hola\")\n",
    "else:\n",
    "    print(\"mundo\")"
   ]
  },
  {
   "cell_type": "markdown",
   "id": "1cc20c82",
   "metadata": {},
   "source": [
    "# For"
   ]
  },
  {
   "cell_type": "code",
   "execution_count": null,
   "id": "a2e0fdd1",
   "metadata": {},
   "outputs": [],
   "source": [
    "for(i=0;i<=10;i++){\n",
    "    codigo #Iteración\n",
    "}"
   ]
  },
  {
   "cell_type": "code",
   "execution_count": 5,
   "id": "2d1bcb55",
   "metadata": {},
   "outputs": [
    {
     "name": "stdout",
     "output_type": "stream",
     "text": [
      "Blanco\n",
      "Azul\n",
      "Verde\n"
     ]
    }
   ],
   "source": [
    "colores = [\"Blanco\", \"Azul\", \"Verde\"]\n",
    "\n",
    "for color in colores:\n",
    "    print(color)"
   ]
  },
  {
   "cell_type": "code",
   "execution_count": 6,
   "id": "943018b9",
   "metadata": {},
   "outputs": [
    {
     "data": {
      "text/plain": [
       "'Blanco'"
      ]
     },
     "execution_count": 6,
     "metadata": {},
     "output_type": "execute_result"
    }
   ],
   "source": [
    "colores = [\"Blanco\", \"Azul\", \"Verde\"]\n",
    "\n",
    "color = iter(colores)\n",
    "next(color)"
   ]
  },
  {
   "cell_type": "code",
   "execution_count": 11,
   "id": "d25efb4b",
   "metadata": {},
   "outputs": [
    {
     "name": "stdout",
     "output_type": "stream",
     "text": [
      "A\n",
      "E\n",
      "I\n",
      "O\n",
      "4\n",
      "3\n",
      "1\n",
      "0\n",
      "A : 4\n",
      "E : 3\n",
      "I : 1\n",
      "O : 0\n"
     ]
    }
   ],
   "source": [
    "valores = {'A' : 4, 'E' : 3, 'I' : 1, 'O' : 0}\n",
    "for k in valores:\n",
    "    print(k)\n",
    "    \n",
    "for v in valores.values():\n",
    "    print(v)\n",
    "    \n",
    "for k, v in valores.items():\n",
    "    print(k,\":\",v)"
   ]
  },
  {
   "cell_type": "code",
   "execution_count": 12,
   "id": "beeaddba",
   "metadata": {},
   "outputs": [
    {
     "name": "stdout",
     "output_type": "stream",
     "text": [
      "0\n",
      "1\n",
      "2\n",
      "3\n",
      "4\n",
      "5\n",
      "6\n",
      "7\n",
      "8\n",
      "9\n",
      "10\n"
     ]
    }
   ],
   "source": [
    "for i in range(11):\n",
    "    print(i)"
   ]
  },
  {
   "cell_type": "code",
   "execution_count": 13,
   "id": "c100bbc4",
   "metadata": {},
   "outputs": [
    {
     "name": "stdout",
     "output_type": "stream",
     "text": [
      "2\n",
      "3\n",
      "4\n",
      "5\n",
      "6\n",
      "7\n",
      "8\n",
      "9\n",
      "10\n"
     ]
    }
   ],
   "source": [
    "for i in range(2,11):\n",
    "    print(i)"
   ]
  },
  {
   "cell_type": "code",
   "execution_count": 14,
   "id": "34353b28",
   "metadata": {},
   "outputs": [
    {
     "name": "stdout",
     "output_type": "stream",
     "text": [
      "2\n",
      "4\n",
      "6\n",
      "8\n",
      "10\n"
     ]
    }
   ],
   "source": [
    "for i in range(2,11,2):\n",
    "    print(i)"
   ]
  },
  {
   "cell_type": "code",
   "execution_count": null,
   "id": "cf6d219b",
   "metadata": {},
   "outputs": [],
   "source": [
    "inicio= int(input(\"Ingrese el inicio\"))\n",
    "final = int(input(\"Ingrese el final\"))\n",
    "\n",
    "for i in range(inicio,final):\n",
    "    print(i)"
   ]
  },
  {
   "cell_type": "code",
   "execution_count": null,
   "id": "1579e182",
   "metadata": {},
   "outputs": [],
   "source": [
    "#Tabla de multiplicar infinita\n",
    "\n",
    "#Inicio_rango = 1\n",
    "#final_rango = 3\n",
    "#Inicio_tabla = 5\n",
    "#Final_tabla =7\n",
    "\n",
    "1 x 5 = 5\n",
    "1 x 6 = 6\n",
    "1 x 7 = 7\n",
    "\n",
    "2 x 5 = 10\n",
    "2 x 6 = 12\n",
    "2 x 7 = 14\n",
    "\n",
    "3 x 5 = 15\n",
    "3 x 6 = 18\n",
    "3 x 7 = 21"
   ]
  },
  {
   "cell_type": "code",
   "execution_count": 24,
   "id": "13e8962a",
   "metadata": {},
   "outputs": [
    {
     "name": "stdout",
     "output_type": "stream",
     "text": [
      "Ingrese el rango de inicio: 1\n",
      "Ingrese el rango final: 3\n",
      "Ingrese el inicio de la tabla: 1\n",
      "Ingrese el final de la tabla: 5\n",
      "1 = 1 = 1\n",
      "1 = 2 = 2\n",
      "1 = 3 = 3\n",
      "1 = 4 = 4\n",
      "1 = 5 = 5\n",
      "\n",
      "2 = 1 = 2\n",
      "2 = 2 = 4\n",
      "2 = 3 = 6\n",
      "2 = 4 = 8\n",
      "2 = 5 = 10\n",
      "\n",
      "3 = 1 = 3\n",
      "3 = 2 = 6\n",
      "3 = 3 = 9\n",
      "3 = 4 = 12\n",
      "3 = 5 = 15\n",
      "\n"
     ]
    }
   ],
   "source": [
    "inicio= int(input(\"Ingrese el rango de inicio: \"))\n",
    "final= int(input(\"Ingrese el rango final: \"))+ 1\n",
    "\n",
    "iniciot= int(input(\"Ingrese el inicio de la tabla: \"))\n",
    "finalt= int(input(\"Ingrese el final de la tabla: \"))+ 1\n",
    "    \n",
    "for i in range(inicio,final):\n",
    "\n",
    "    for k in range(iniciot,finalt):\n",
    "        print(i,\"=\",k,\"=\",i*k)\n",
    "    print()"
   ]
  },
  {
   "cell_type": "code",
   "execution_count": null,
   "id": "3ef927b5",
   "metadata": {},
   "outputs": [],
   "source": []
  }
 ],
 "metadata": {
  "kernelspec": {
   "display_name": "Python 3 (ipykernel)",
   "language": "python",
   "name": "python3"
  },
  "language_info": {
   "codemirror_mode": {
    "name": "ipython",
    "version": 3
   },
   "file_extension": ".py",
   "mimetype": "text/x-python",
   "name": "python",
   "nbconvert_exporter": "python",
   "pygments_lexer": "ipython3",
   "version": "3.11.4"
  }
 },
 "nbformat": 4,
 "nbformat_minor": 5
}
