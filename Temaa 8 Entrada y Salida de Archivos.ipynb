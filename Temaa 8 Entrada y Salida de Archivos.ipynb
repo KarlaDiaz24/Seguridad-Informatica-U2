{
 "cells": [
  {
   "cell_type": "code",
   "execution_count": null,
   "id": "71391dc1",
   "metadata": {},
   "outputs": [],
   "source": [
    "Los modos comunes son:\n",
    "\n",
    "\"r\": Lectura (por defecto).\n",
    "\"w\": Escritura (sobrescribe el archivo si ya existe).\n",
    "\"a\": Añadir (agrega contenido al final del archivo si ya existe).\n",
    "\"b\": Modo binario (se utiliza junto con otros modos, como \"rb\" o \"wb\")."
   ]
  },
  {
   "cell_type": "code",
   "execution_count": null,
   "id": "de8b9987",
   "metadata": {},
   "outputs": [],
   "source": [
    "archivo = open(\"hola.txt\", \"r\")\n",
    "\n",
    "resultado = archivo.read()\n",
    "\n",
    "print(resultado)"
   ]
  },
  {
   "cell_type": "code",
   "execution_count": null,
   "id": "5b06d9c7",
   "metadata": {},
   "outputs": [],
   "source": [
    "pip install docx2txt"
   ]
  },
  {
   "cell_type": "code",
   "execution_count": 1,
   "id": "b8312661",
   "metadata": {
    "scrolled": true
   },
   "outputs": [],
   "source": [
    "import os,webbrowser,subprocess,openpyxl,PyPDF2,docx2txt"
   ]
  },
  {
   "cell_type": "code",
   "execution_count": 10,
   "id": "5ae43386",
   "metadata": {},
   "outputs": [
    {
     "name": "stdout",
     "output_type": "stream",
     "text": [
      "PARTE 1. INICIO\n",
      "Un robot se encuentra en un mundo\n",
      "futurista.\n",
      "El juego muestra un mensaje de\n",
      "\"Perdiste\" y el botón para volver a jugar. El robot recolecta una batería, lo que le\n",
      "permite avanzar.\n",
      "El robot sigue recolectando baterías y\n",
      "se salta una.El robot choca con un obstáculo y no\n",
      "puede avanzar más.\n",
      "El juego muestra un mensaje de\n",
      "“Perdiste” y el botón para volver a jugar.PARTE 4. VOLVER A JUGARPARTE 2. RECOLECTAR BATERÍA\n",
      "PARTE 5. RECOLECTAR BATERÍAPARTE 3. OSBTACULO\n",
      "PARTE 6. VOLVER A JUGAR\n",
      "RobotWalk\n"
     ]
    }
   ],
   "source": [
    "# Crear un Objeto de PdfReader\n",
    "reader = PyPDF2.PdfReader('Storyboard.pdf')\n",
    "\n",
    "# Mostrar el texto de la primera pagina\n",
    "print(reader.pages[0].extract_text())"
   ]
  },
  {
   "cell_type": "code",
   "execution_count": 11,
   "id": "2c5cfc9b",
   "metadata": {},
   "outputs": [
    {
     "name": "stdout",
     "output_type": "stream",
     "text": [
      "Ingeniería en Desarrollo y Gestión de Software\n",
      "\n",
      "\n",
      "\n",
      "\n",
      "\n",
      "Asignatura: Experiencia de usuario\n",
      "\n",
      "\n",
      "\n",
      "\n",
      "\n",
      "Equipo: \n",
      "\n",
      "Karla Montserrat Diaz Lopez\n",
      "\n",
      "Lian Erick Aguirre Sierra\n",
      "\n",
      "Héctor Omar Ruiz Cauich\n",
      "\n",
      "Rogelio \n",
      "\n",
      "\n",
      "\n",
      "Grupo: IDYGS71\n",
      "\n",
      "\n",
      "\n",
      "\n",
      "\n",
      "\n",
      "\n",
      "\n",
      "\n",
      "\n",
      "\n",
      "\n",
      "\n",
      "\n",
      "\n",
      "\n",
      "\n",
      "\n",
      "\n",
      "¿Por qué estoy haciendo esto?\n",
      "\n",
      "Para ofrecer al usuario una herramienta que permita organizar sus cosas de manera fácil, como sus tareas, eventos importantes y recordatorios diarios.\n",
      "\n",
      "¿Por qué existen los sitios web en primer lugar?\n",
      "\n",
      "Los sitios web existen debido a que cada uno de ellos tiene un propósito específico que desempeña una función importante. El propósito puede variar ampliamente, todos los sitios web se crean con el fin de servir a una necesidad o proporcionar un servicio útil a las personas ya sea para informarse, comunicarse o interactuarse.\n",
      "\n",
      "¿Qué se supone que debe hacer un sitio web?\n",
      "\n",
      "Un sitio web debe proporcionar información, comunicación, interacción o servicios de manera accesible y efectiva.\n",
      "\n",
      "¿Qué necesidades cumplen los sitios web?\n",
      "\n",
      "Satisface lo que el usuario ne\n"
     ]
    }
   ],
   "source": [
    "result = docx2txt.process(\"Act1.docx\")\n",
    "print(result)"
   ]
  },
  {
   "cell_type": "code",
   "execution_count": 12,
   "id": "3100d5b0",
   "metadata": {},
   "outputs": [
    {
     "name": "stdout",
     "output_type": "stream",
     "text": [
      "\n",
      "\n",
      "\n",
      "\n",
      "\n",
      "CRONOGRAMA DE ACTIVIDADES\t\n",
      "\n",
      "NOMBRE DEL PROYECTO\tCatálogo de las zonas arqueológicas de México\t\n",
      "\n",
      "OBJETIVO GENERAL\tDesarrollar una aplicación móvil de las zonas arqueológicas de México utilizando Angular y Ionic, para facilitar a los usuarios la exploración, información y experiencia de realidad aumentada en las zonas arqueológicas de México a través de una interfaz intuitiva y educativa con el fin de proporcionar a los usuarios información detallada sobre la ubicación, descripción y otros datos relevantes de estas zonas históricas y culturales. \t\n",
      "\n",
      "PERIODO DE REALIZACIÓN\t01 de noviembre al 13 de noviembre de 2023\t\n",
      "\n",
      "OBJETIVOS ESPECÍFICOS\tACTIVIDADES\tSeptiembre\tOctubre\tNoviembre\tDiciembre\t\n",
      "\n",
      "1\t2\t3\t4\t1\t2\t3\t4\t1\t2\t3\t4\t1\t2\t3\t4\t\n",
      "\n",
      "1. Desarrollar wireframes que representen la estructura y diseño de la aplicación, incluyendo la lista de zonas arqueológicas, la vista de detalles de una zona arqueológica y el mapa de ubicación.\tElaboración de los wireframes en figma de las pantallas clave de la aplicación.\tP\tX\t\n",
      "\n",
      "\n",
      "\n",
      "R\t\n",
      "\n",
      "\n",
      "\n",
      "\n",
      "\n",
      "\n",
      "\n",
      "2. Desarrollar la interfaz gráfica, mediante la implementación de herramientas de maquetado, obteniendo un manejo de la aplicación sencillo y eficaz.\tDefinir los requisitos de diseño de la interfaz de usuario.\tP\t    X\t\n",
      "\n",
      "R\t \t    \t\n",
      "\n",
      "Elaboración de los diseños de las interfaces de cada sección. \tP\t \t     X\t\n",
      "\n",
      "R\t\n",
      "\n",
      "\n",
      "\n",
      "\n",
      "\n",
      "3. Establecer un mecanismo efectivo para adquirir información detallada sobre las zonas arqueológicas de México y gestionar esta información de manera eficiente dentro de la aplicación móvil.\tAlmacenar y gestionar los datos de zonas arqueológicas en la aplicación para su posterior visualización.\tP\tX\t\n",
      "\n",
      "\n",
      "\n",
      "R\t\n",
      "\n",
      "\n",
      "\n",
      "4. Implementar la funcionalidad de realidad aumentada (AR) en la aplicación móvil que permita a los usuarios explorar y enriquecer su experiencia en las zonas arqueológicas de México.\tInvestigar y seleccionar el tipo de AR a utilizar.\tP\tX\t\n",
      "\n",
      "R\t \t    \t \t\n",
      "\n",
      "Integrar AR en cada sección de una zona arqueológica de la aplicación.\tP\t   X\t\n",
      "\n",
      "R\t\n",
      "\n",
      "\n",
      "\n",
      "\n",
      "\n",
      "5. Implementar un servicio de Mapas para permitir a los usuarios visualizar las ubicaciones de las zonas arqueológicas en un mapa interactivo.\tInvestigar y seleccionar el servicio de mapa a utilizar.\tP\tX\t\n",
      "\n",
      "R\t \t    \t \t\n",
      "\n",
      "Integrar el servicio de mapas en la aplicación.\tP\t \t   X\t\n",
      "\n",
      "R\t\n",
      "\n",
      "\n",
      "\n",
      "\n",
      "\n",
      "\n",
      "\n",
      "PROGRAMADO\tP\t\n",
      "\n",
      "REAL\tR\t\n",
      "\n",
      "\n",
      "\n",
      "\n",
      "\n",
      "\n"
     ]
    }
   ],
   "source": [
    "# Abre el archivo Excel\n",
    "wb = openpyxl.load_workbook('Cronograma.xlsx')\n",
    "\n",
    "# Selecciona una hoja específica (por nombre)\n",
    "sheet = wb.active\n",
    "\n",
    "# Itera a través de las filas de la hoja\n",
    "for row in sheet.iter_rows(values_only=True):\n",
    "    print()\n",
    "    for cell in row:\n",
    "        if cell is not None:\n",
    "            print(cell, end='\\t')  # Imprime celdas separadas por tabulación\n",
    "    print() # Salto de línea al final de cada fila"
   ]
  }
 ],
 "metadata": {
  "kernelspec": {
   "display_name": "Python 3 (ipykernel)",
   "language": "python",
   "name": "python3"
  },
  "language_info": {
   "codemirror_mode": {
    "name": "ipython",
    "version": 3
   },
   "file_extension": ".py",
   "mimetype": "text/x-python",
   "name": "python",
   "nbconvert_exporter": "python",
   "pygments_lexer": "ipython3",
   "version": "3.11.4"
  }
 },
 "nbformat": 4,
 "nbformat_minor": 5
}
